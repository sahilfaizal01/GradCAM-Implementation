{
  "nbformat": 4,
  "nbformat_minor": 0,
  "metadata": {
    "colab": {
      "provenance": []
    },
    "kernelspec": {
      "name": "python3",
      "display_name": "Python 3"
    },
    "language_info": {
      "name": "python"
    }
  },
  "cells": [
    {
      "cell_type": "code",
      "execution_count": 2,
      "metadata": {
        "id": "HxXbs7UH7Vf4"
      },
      "outputs": [],
      "source": [
        "from keras.layers import *\n",
        "from tensorflow.keras.models import Sequential # Importing the Sequential\n",
        "\n",
        "model=Sequential()\n",
        "input_shape=(100,100,3)\n",
        "model = Sequential()\n",
        "\n",
        "model.add(Conv2D(6, (5, 5), input_shape=input_shape, padding='same', activation = 'relu'))\n",
        "model.add(MaxPooling2D(pool_size=(2, 2)))\n",
        "\n",
        "model.add(Conv2D(16, (5, 5),padding='same', activation = 'relu'))\n",
        "model.add(MaxPooling2D(pool_size=(2, 2)))\n",
        "\n",
        "model.add(Conv2D(64, (3, 3), activation = 'relu'))\n",
        "model.add(MaxPooling2D(pool_size=(2, 2)))\n",
        "\n",
        "\n",
        "model.add(Conv2D(128, (3, 3), activation = 'relu'))\n",
        "model.add(MaxPooling2D(pool_size=(2, 2)))\n",
        "\n",
        "model.add(Flatten())\n",
        "\n",
        "\n",
        "model.add(Dense(1024, activation='relu'))\n",
        "model.add(Dropout(0.4))\n",
        "model.add(Dense(10, activation = 'softmax'))"
      ]
    },
    {
      "cell_type": "code",
      "source": [
        "model.load_weights('/content/drive/MyDrive/Personal/CNN-Best.h5')"
      ],
      "metadata": {
        "id": "SLQ05v8w8OKo"
      },
      "execution_count": 3,
      "outputs": []
    },
    {
      "cell_type": "code",
      "source": [
        "import cv2\n",
        "orig = cv2.imread(\"/content/CO1-5-6.jpg\")\n",
        "orig = cv2.cvtColor(orig,cv2.COLOR_BGR2RGB)\n",
        "resized = cv2.resize(orig, (100, 100))\n",
        "img_data=resized/255"
      ],
      "metadata": {
        "id": "4Ow0qQyJ8ONH"
      },
      "execution_count": 8,
      "outputs": []
    },
    {
      "cell_type": "code",
      "source": [
        "img_data = np.resize(img_data,(1,100,100,3))"
      ],
      "metadata": {
        "id": "4Z7ps7-Z-i4o"
      },
      "execution_count": 9,
      "outputs": []
    },
    {
      "cell_type": "code",
      "source": [
        "import numpy as np\n",
        "preds = model.predict(img_data)\n",
        "i = np.argmax(preds[0])\n",
        "i"
      ],
      "metadata": {
        "colab": {
          "base_uri": "https://localhost:8080/"
        },
        "id": "hO0hTQjj8OQA",
        "outputId": "6abbe47f-6ccf-4a28-8a53-9503cdd63f9f"
      },
      "execution_count": 10,
      "outputs": [
        {
          "output_type": "stream",
          "name": "stdout",
          "text": [
            "1/1 [==============================] - 0s 313ms/step\n"
          ]
        },
        {
          "output_type": "execute_result",
          "data": {
            "text/plain": [
              "0"
            ]
          },
          "metadata": {},
          "execution_count": 10
        }
      ]
    },
    {
      "cell_type": "code",
      "source": [
        "def make_gradcam_heatmap(img_array, model, last_conv_layer_name, pred_index=None):\n",
        "  grad_model = tf.keras.models.Model([model.inputs], [model.get_layer(last_conv_layer_name).output, model.output])\n",
        "  with tf.GradientTape() as tape:\n",
        "    last_conv_layer_output, preds = grad_model(img_array)\n",
        "    if pred_index is None:\n",
        "      pred_index = tf.argmax(preds[0])\n",
        "    class_channel = preds[:, pred_index]\n",
        "  grads = tape.gradient(class_channel, last_conv_layer_output)\n",
        "  pooled_grads = tf.reduce_mean(grads, axis=(0, 1, 2))\n",
        "  last_conv_layer_output = last_conv_layer_output[0]\n",
        "  heatmap = last_conv_layer_output @ pooled_grads[..., tf.newaxis]\n",
        "  heatmap = tf.squeeze(heatmap)\n",
        "  heatmap = tf.maximum(heatmap, 0) / tf.math.reduce_max(heatmap)\n",
        "  return heatmap.numpy()"
      ],
      "metadata": {
        "id": "Osb-kWRUEAv8"
      },
      "execution_count": 17,
      "outputs": []
    },
    {
      "cell_type": "code",
      "source": [
        "import matplotlib.pyplot as plt\n",
        "# Remove last layer's softmax\n",
        "model.layers[-1].activation = None\n",
        "\n",
        "last_conv_layer_name = \"conv2d_3\"\n",
        "\n",
        "# Generate class activation heatmap\n",
        "heatmap = make_gradcam_heatmap(img_data, model, last_conv_layer_name)\n",
        "\n",
        "# Display heatmap\n",
        "plt.matshow(heatmap)\n",
        "plt.show()"
      ],
      "metadata": {
        "colab": {
          "base_uri": "https://localhost:8080/",
          "height": 275
        },
        "id": "02yv3LrsHU6T",
        "outputId": "9ac31dee-29bc-49f3-e6c4-d618d6a90fc9"
      },
      "execution_count": 19,
      "outputs": [
        {
          "output_type": "display_data",
          "data": {
            "text/plain": [
              "<Figure size 288x288 with 1 Axes>"
            ],
            "image/png": "[encoded data removed]"
          },
          "metadata": {
            "needs_background": "light"
          }
        }
      ]
    },
    {
      "cell_type": "code",
      "source": [
        "from tensorflow import keras\n",
        "import matplotlib.cm as cm\n",
        "from IPython.display import Image, display\n",
        "\n",
        "def save_and_display_gradcam(img_path, heatmap, cam_path=\"cam.jpg\", alpha=0.4):\n",
        "  img = keras.preprocessing.image.load_img(img_path,target_size=(100,100))\n",
        "  img = keras.preprocessing.image.img_to_array(img)\n",
        "  heatmap = np.uint8(255 * heatmap)\n",
        "  jet = cm.get_cmap(\"jet\")\n",
        "  jet_colors = jet(np.arange(256))[:, :3]\n",
        "  jet_heatmap = jet_colors[heatmap]\n",
        "  jet_heatmap = keras.preprocessing.image.array_to_img(jet_heatmap)\n",
        "  jet_heatmap = jet_heatmap.resize((img.shape[1], img.shape[0]))\n",
        "  jet_heatmap = keras.preprocessing.image.img_to_array(jet_heatmap)\n",
        "  superimposed_img = jet_heatmap * alpha + img\n",
        "  superimposed_img = keras.preprocessing.image.array_to_img(superimposed_img)\n",
        "  superimposed_img.save(cam_path)\n",
        "  display(Image(cam_path))\n",
        "\n",
        "\n",
        "save_and_display_gradcam('/content/CO1-5-6.jpg', heatmap)"
      ],
      "metadata": {
        "colab": {
          "base_uri": "https://localhost:8080/",
          "height": 117
        },
        "id": "zJ_nRLVWH4F1",
        "outputId": "1652bd68-bf0f-4156-fb08-0505db2aeade"
      },
      "execution_count": 26,
      "outputs": [
        {
          "output_type": "display_data",
          "data": {
            "image/jpeg": "[encoded data removed]",
            "text/plain": [
              "<IPython.core.display.Image object>"
            ]
          },
          "metadata": {}
        }
      ]
    },
    {
      "cell_type": "code",
      "source": [
        "from google.colab.patches import cv_imshow\n",
        "cv_imshow(orig)"
      ],
      "metadata": {
        "colab": {
          "base_uri": "https://localhost:8080/",
          "height": 84
        },
        "id": "exaXqtvfI6d1",
        "outputId": "ed3dfd10-3765-40a3-8fc0-7959fa982257"
      },
      "execution_count": 25,
      "outputs": [
        {
          "output_type": "display_data",
          "data": {
            "text/plain": [
              "<PIL.Image.Image image mode=RGB size=67x67 at 0x7F3FB326CBB0>"
            ],
            "image/png": "[encoded data removed]"
          },
          "metadata": {}
        }
      ]
    }
  ]
}